{
  "nbformat": 4,
  "nbformat_minor": 0,
  "metadata": {
    "colab": {
      "provenance": [],
      "toc_visible": true,
      "authorship_tag": "ABX9TyMXTJioaT3uWD7zulL7/k7w",
      "include_colab_link": true
    },
    "kernelspec": {
      "name": "python3",
      "display_name": "Python 3"
    },
    "language_info": {
      "name": "python"
    }
  },
  "cells": [
    {
      "cell_type": "markdown",
      "metadata": {
        "id": "view-in-github",
        "colab_type": "text"
      },
      "source": [
        "<a href=\"https://colab.research.google.com/github/Max-JI64/Today-I-Learn/blob/main/Study/Image_Processing_Bible/1_1_%EC%9D%B4%EB%AF%B8%EC%A7%80_%EC%B2%98%EB%A6%AC%EC%99%80_%EC%BB%B4%ED%93%A8%ED%84%B0_%EB%B9%84%EC%A0%84.ipynb\" target=\"_parent\"><img src=\"https://colab.research.google.com/assets/colab-badge.svg\" alt=\"Open In Colab\"/></a>"
      ]
    },
    {
      "cell_type": "markdown",
      "source": [
        "# 1.1.1 이미지 처리란?"
      ],
      "metadata": {
        "id": "Dz10HbUTOisk"
      }
    },
    {
      "cell_type": "markdown",
      "source": [
        "## 아날로그 이미지 처리"
      ],
      "metadata": {
        "id": "BwMmub-cOlNY"
      }
    },
    {
      "cell_type": "markdown",
      "source": [
        "사진 촬영 시 필름에 화학 처리, 카메라로 촬영한 이미지를 변경 및 편집을 위한 물리적 수단 이용"
      ],
      "metadata": {
        "id": "vRJO3FOOOok6"
      }
    },
    {
      "cell_type": "markdown",
      "source": [
        "## 디지털 이미지 처리"
      ],
      "metadata": {
        "id": "cae3DwEHOwPt"
      }
    },
    {
      "cell_type": "markdown",
      "source": [
        "컴퓨터가 디지털 이미지를 처리하는 데 수학적 알고리즘과 계산 기술에 의존\n",
        "- 이미지 향상, 복원, 특징 추출  \n",
        "\n",
        "이미지는 유한한 픽셀 집합으로 구성되어 있으며, 각 픽셀은 색상과 강도에 대한 정보를 담고 있다"
      ],
      "metadata": {
        "id": "fKy57ulMO007"
      }
    },
    {
      "cell_type": "markdown",
      "source": [
        "## 디지털 이미지의 처리 단계"
      ],
      "metadata": {
        "id": "ylW5GUK6PaZ7"
      }
    },
    {
      "cell_type": "markdown",
      "source": [
        "디지털 이미지의 품질을 향상시키거나 이미지에서 정보를 추출하기 위해"
      ],
      "metadata": {
        "id": "3rDjdzzWPexj"
      }
    },
    {
      "cell_type": "markdown",
      "source": [
        "### 1) 이미지 획득"
      ],
      "metadata": {
        "id": "USDtKbxKPld3"
      }
    },
    {
      "cell_type": "markdown",
      "source": [
        "카메라, 스태너, 이미지 캡처 장치를 통해 이루어짐  \n",
        "디지털 형식으로 변환하여 컴퓨터에서 처리  \n",
        "이때 이미지의 품질을 보존하는 것이 중요  \n",
        "노이즈, 왜곡, 빛의 변화 등을 처리"
      ],
      "metadata": {
        "id": "D377gdI9PlWB"
      }
    },
    {
      "cell_type": "markdown",
      "source": [
        "### 2) 이미지 개선"
      ],
      "metadata": {
        "id": "1J7rtaZfPkUd"
      }
    },
    {
      "cell_type": "markdown",
      "source": [
        "이미지의 품질을 향상  \n",
        "노이즈 제거, 명암 조절, 색상 보정\n",
        "다양한 필터링 기법, 히스토그램 평활화, 샤프닝"
      ],
      "metadata": {
        "id": "jvpSnl9GQAQK"
      }
    },
    {
      "cell_type": "markdown",
      "source": [
        "### 3) 이미지 분석"
      ],
      "metadata": {
        "id": "c8HNBBLqQIFK"
      }
    },
    {
      "cell_type": "markdown",
      "source": [
        "이미지의 유용한 정보를 추출  \n",
        "특징 추출, 패턴 인직, 객체 감지  \n",
        "의미있는 데이터 얻기 <- 엣지 검출, 코너 검출, 텍스처 분석  \n",
        "이를 통해 이미지의 구조와 패턴을 파악하고, 중요한 특징을 식별하며, 이 특징으로 이미지를 분석"
      ],
      "metadata": {
        "id": "uSMxxAlMRPTj"
      }
    },
    {
      "cell_type": "markdown",
      "source": [
        "### 4) 이미지 해석 및 이해"
      ],
      "metadata": {
        "id": "mPyosacIRPbf"
      }
    },
    {
      "cell_type": "markdown",
      "source": [
        "이미지 분석의 데이터로 이미지를 해석하고 이해  \n",
        "이미지 분류, 검색, 인식  \n",
        "이미지에서 얻은 데이터를 의미있는 방식으로 사용 <- 패턴 매칭, 머신러닝, 딥러닝"
      ],
      "metadata": {
        "id": "wf5YiX6dRj5u"
      }
    },
    {
      "cell_type": "markdown",
      "source": [
        "## 이미지 처리의 활용 범위"
      ],
      "metadata": {
        "id": "b1SJNu7xRPcw"
      }
    },
    {
      "cell_type": "markdown",
      "source": [
        "# 1.1.2 컴퓨터 비전이란?"
      ],
      "metadata": {
        "id": "0wtvihNrR8Wo"
      }
    },
    {
      "cell_type": "markdown",
      "source": [
        "## 이미지 처리와 컴퓨터 비전"
      ],
      "metadata": {
        "id": "VIoQG40LRPeD"
      }
    },
    {
      "cell_type": "markdown",
      "source": [
        "컴퓨터 비전은 기계사가 시각적 데이터를 이해하고 분석하는 능력을 개발하는 과학 분야  \n",
        "디지털 이미지를 통해 우리가 세상을 인식하는 방식을 모방하고, 이미지로부터 의미 있는 정보 추출"
      ],
      "metadata": {
        "id": "UvYdBIwXRPfX"
      }
    },
    {
      "cell_type": "markdown",
      "source": [
        "- 이미지 처리는 주로 디지털 이미지의 향상, 변형 복원\n",
        "- 컴퓨터 비전은 더 높은 수준의 이해를 필요, 객체 인식, 패턴 분석, 이미지 분류"
      ],
      "metadata": {
        "id": "Lq2GVglXRPgo"
      }
    },
    {
      "cell_type": "markdown",
      "source": [
        "## 컴퓨터 비전의 정의"
      ],
      "metadata": {
        "id": "lloCpbo2Sm01"
      }
    },
    {
      "cell_type": "markdown",
      "source": [
        "컴퓨터 비전은 시각 기계의 과학 및 기술  \n",
        "패턴 인식과 학습 기법에 의존하여 이미지 해석 -> 광범위한 컴퓨팅 리소스와 정교한 알고리즘 필요"
      ],
      "metadata": {
        "id": "7GlvCvMNRPjP"
      }
    },
    {
      "cell_type": "markdown",
      "source": [
        "### 1) 낮은 수준 비전 작업"
      ],
      "metadata": {
        "id": "gZXRkBJRRPki"
      }
    },
    {
      "cell_type": "markdown",
      "source": [
        "- 노이즈 제거\n",
        "- 대비 향상\n",
        "- 채도 향상\n",
        "- 에지 검출"
      ],
      "metadata": {
        "id": "e0K1MrUsS9dR"
      }
    },
    {
      "cell_type": "markdown",
      "source": [
        "### 2) 중간 수준 비전 작업"
      ],
      "metadata": {
        "id": "ssd1eSN4RPl1"
      }
    },
    {
      "cell_type": "markdown",
      "source": [
        "- 이미지 영역 분할\n",
        "- 이미지 객체로 분할\n",
        "- 이미지 광학 흐름 추정"
      ],
      "metadata": {
        "id": "35yoXRCORPnI"
      }
    },
    {
      "cell_type": "markdown",
      "source": [
        "### 3) 높은 수준 비전 작업"
      ],
      "metadata": {
        "id": "erXSJYAGRPod"
      }
    },
    {
      "cell_type": "markdown",
      "source": [
        "- 객체 인식\n",
        "- 장면 재구성\n",
        "- 이미지 학습 및 추론"
      ],
      "metadata": {
        "id": "X65yem8URPpw"
      }
    }
  ]
}